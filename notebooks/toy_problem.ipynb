{
 "cells": [
  {
   "cell_type": "markdown",
   "id": "15f105e1-d4d4-433b-9516-e6ab15ecc1a4",
   "metadata": {},
   "source": [
    "# Multi-Fidelity Bayesian Optimization: Investigating a Minimal Toy Problem\n",
    "\n",
    "(Inspired by \"A Tutorial on Vanilla Bayesian Optimization\" by Darian Nwankwo)"
   ]
  },
  {
   "cell_type": "code",
   "execution_count": 26,
   "id": "c0835e8a-94f2-4666-8cb2-744ff71d619b",
   "metadata": {
    "tags": []
   },
   "outputs": [],
   "source": [
    "using Plots; plot() # warm start plotting engine\n",
    "using LinearAlgebra\n",
    "using Distributions\n",
    "using Optim"
   ]
  },
  {
   "cell_type": "code",
   "execution_count": 31,
   "id": "b7c76097-3520-4c1f-89c1-f0e355b6e200",
   "metadata": {
    "tags": []
   },
   "outputs": [
    {
     "data": {
      "text/plain": [
       "get_random_testfn (generic function with 1 method)"
      ]
     },
     "execution_count": 31,
     "metadata": {},
     "output_type": "execute_result"
    }
   ],
   "source": [
    "include(\"../src/testfns.jl\")"
   ]
  },
  {
   "cell_type": "code",
   "execution_count": 33,
   "id": "6bce0844",
   "metadata": {
    "tags": []
   },
   "outputs": [
    {
     "data": {
      "text/plain": [
       "get_random_kernel (generic function with 1 method)"
      ]
     },
     "execution_count": 33,
     "metadata": {},
     "output_type": "execute_result"
    }
   ],
   "source": [
    "include(\"../src/kernels.jl\")"
   ]
  },
  {
   "cell_type": "markdown",
   "id": "bddef9b2-4637-4fac-b566-ed5901b78b4e",
   "metadata": {
    "tags": []
   },
   "source": [
    "## 1. Gather Initial Samples\n",
    "Our first step is to run some initial experiments and collect our data locations into some matrix $X$ and observations into some vector $y$. Our \"experiments\" will be random evaluations of some test function; in practice, our function is black-boxed. Put these obervations into an nxd matrix X."
   ]
  },
  {
   "cell_type": "code",
   "execution_count": 34,
   "id": "d9c39aeb-7554-49a2-aa60-2e19652cd15b",
   "metadata": {
    "tags": []
   },
   "outputs": [
    {
     "name": "stdout",
     "output_type": "stream",
     "text": [
      "Test Function: Hartmann3D\n"
     ]
    },
    {
     "ename": "LoadError",
     "evalue": "Can only plot 1- or 2-dimensional TestFunctions",
     "output_type": "error",
     "traceback": [
      "Can only plot 1- or 2-dimensional TestFunctions",
      "",
      "Stacktrace:",
      " [1] error(s::String)",
      "   @ Base ./error.jl:35",
      " [2] tplot(f::TestFunction)",
      "   @ Main ~/BO_Research/Multi-Fidelity-Bayesian-Optimization/src/testfns.jl:56",
      " [3] top-level scope",
      "   @ In[34]:3"
     ]
    }
   ],
   "source": [
    "testfn, testfn_name =  get_random_testfn()\n",
    "println(\"Test Function: $(testfn_name)\")\n",
    "tplot(testfn)"
   ]
  },
  {
   "cell_type": "code",
   "execution_count": 35,
   "id": "63de0491-646d-4c41-9f76-624ee0804c22",
   "metadata": {
    "tags": []
   },
   "outputs": [
    {
     "ename": "LoadError",
     "evalue": "BoundsError: attempt to access 2-element Vector{Float64} at index [3]",
     "output_type": "error",
     "traceback": [
      "BoundsError: attempt to access 2-element Vector{Float64} at index [3]",
      "",
      "Stacktrace:",
      " [1] getindex",
      "   @ ./essentials.jl:13 [inlined]",
      " [2] (::var\"#f#306\"{Matrix{Float64}, Matrix{Float64}, Vector{Float64}})(x::Vector{Float64})",
      "   @ Main ~/BO_Research/Multi-Fidelity-Bayesian-Optimization/src/testfns.jl:405",
      " [3] (::TestFunction)(x::Vector{Float64})",
      "   @ Main ~/BO_Research/Multi-Fidelity-Bayesian-Optimization/src/testfns.jl:13",
      " [4] top-level scope",
      "   @ In[35]:1"
     ]
    }
   ],
   "source": [
    "testfn([9., 9.])"
   ]
  },
  {
   "cell_type": "code",
   "execution_count": 36,
   "id": "ca0573b5-1f4e-4465-8671-b29a2a9deb76",
   "metadata": {
    "tags": []
   },
   "outputs": [
    {
     "data": {
      "text/plain": [
       "squared_exp (generic function with 1 method)"
      ]
     },
     "execution_count": 36,
     "metadata": {},
     "output_type": "execute_result"
    }
   ],
   "source": [
    "function squared_exp(x,xx,σ,L)\n",
    "    return σ^2exp(-(x-xx)^2/2L^2)\n",
    "end"
   ]
  },
  {
   "cell_type": "code",
   "execution_count": 37,
   "id": "4cc70889-7b83-416f-98c2-4591c16295fe",
   "metadata": {
    "tags": []
   },
   "outputs": [
    {
     "data": {
      "text/plain": [
       "getRandom (generic function with 1 method)"
      ]
     },
     "execution_count": 37,
     "metadata": {},
     "output_type": "execute_result"
    }
   ],
   "source": [
    "function getRandom(d::Int, n::Int, from::Vector{Float64}, to::Vector{Float64})\n",
    "    X=zeros(d,n)\n",
    "    for i in 1:n\n",
    "        for j in 1:d\n",
    "            X[j,i]=rand(Uniform(from[j], to[j]))\n",
    "            end\n",
    "        end\n",
    "        return X\n",
    "end"
   ]
  },
  {
   "cell_type": "code",
   "execution_count": 38,
   "id": "48b2cbb7-f781-4eb1-8014-f682429da82a",
   "metadata": {
    "tags": []
   },
   "outputs": [
    {
     "data": {
      "text/plain": [
       "randomize (generic function with 1 method)"
      ]
     },
     "execution_count": 38,
     "metadata": {},
     "output_type": "execute_result"
    }
   ],
   "source": [
    "function randomize(func)\n",
    "    n=5\n",
    "    d = func.dim\n",
    "    bound=func.bounds\n",
    "    from = bound[:,1]\n",
    "    to=bound[:,2]\n",
    "    f = func.f\n",
    "    X=getRandom(d, n, from, to)\n",
    "    Y=[f(X[:,i]) for i in 1:n]\n",
    "    println(\"X:\")\n",
    "    println(X)\n",
    "    \n",
    "    println(\"Y:\")\n",
    "    println(Y)\n",
    "end"
   ]
  },
  {
   "cell_type": "code",
   "execution_count": 39,
   "id": "f7932fa1-5106-4755-a6ca-02856897172d",
   "metadata": {},
   "outputs": [
    {
     "name": "stdout",
     "output_type": "stream",
     "text": [
      "X:\n",
      "[0.8199332982866547 0.6761026619609325 0.40523020926317566 0.8673226824918975 0.8098063460721986; 0.025609580431320556 0.5594344428350719 0.8242827552370496 0.5507287251628964 0.08849399472514774; 0.7027070349719682 0.8822459688252464 0.13563174379282372 0.7604138878765614 0.9822472996803057]\n",
      "Y:\n",
      "[-0.2504904755441133, -3.627135168773923, -0.015578061715918978, -2.847216001227369, -0.25153052076952304]\n"
     ]
    }
   ],
   "source": [
    "randomize(testfn)"
   ]
  },
  {
   "cell_type": "markdown",
   "id": "64f9c1f0-c13e-49e7-a0f5-c57a8032b8b1",
   "metadata": {},
   "source": [
    "## 2. Initialize surrogate model\n",
    "\n",
    "Gather information regarding predictive mean and variance for our function. I will use kernels defined in kernels.jl."
   ]
  },
  {
   "cell_type": "code",
   "execution_count": 41,
   "id": "f95165bd-102b-4571-b1dd-cf7d971f0b21",
   "metadata": {
    "tags": []
   },
   "outputs": [
    {
     "data": {
      "text/plain": [
       "(matern_52_kernel, \"Matern 52\")"
      ]
     },
     "execution_count": 41,
     "metadata": {},
     "output_type": "execute_result"
    }
   ],
   "source": [
    "testkernel, kernelname = get_random_kernel()"
   ]
  },
  {
   "cell_type": "code",
   "execution_count": 42,
   "id": "28fefb9e-82c4-4ffd-b478-3936e87c6329",
   "metadata": {},
   "outputs": [
    {
     "ename": "LoadError",
     "evalue": "MethodError: no method matching matern_52_kernel(::Float64)\n\n\u001b[0mClosest candidates are:\n\u001b[0m  matern_52_kernel(\u001b[91m::Vector{T}\u001b[39m, \u001b[91m::Vector{T}\u001b[39m, \u001b[91m::T\u001b[39m, \u001b[91m::T\u001b[39m) where T<:Real\n\u001b[0m\u001b[90m   @\u001b[39m \u001b[35mMain\u001b[39m \u001b[90m~/BO_Research/Multi-Fidelity-Bayesian-Optimization/src/\u001b[39m\u001b[90m\u001b[4mkernels.jl:6\u001b[24m\u001b[39m\n",
     "output_type": "error",
     "traceback": [
      "MethodError: no method matching matern_52_kernel(::Float64)\n\n\u001b[0mClosest candidates are:\n\u001b[0m  matern_52_kernel(\u001b[91m::Vector{T}\u001b[39m, \u001b[91m::Vector{T}\u001b[39m, \u001b[91m::T\u001b[39m, \u001b[91m::T\u001b[39m) where T<:Real\n\u001b[0m\u001b[90m   @\u001b[39m \u001b[35mMain\u001b[39m \u001b[90m~/BO_Research/Multi-Fidelity-Bayesian-Optimization/src/\u001b[39m\u001b[90m\u001b[4mkernels.jl:6\u001b[24m\u001b[39m\n",
      "",
      "Stacktrace:",
      " [1] top-level scope",
      "   @ In[42]:1"
     ]
    }
   ],
   "source": [
    "ψ=testkernel(1.)\n",
    "sur = fit_surrogate(ψ::RBFfun, X, yshift);\n"
   ]
  },
  {
   "cell_type": "code",
   "execution_count": null,
   "id": "d2af43d9-3ee3-4a2b-a4d2-e59903777b7e",
   "metadata": {},
   "outputs": [],
   "source": []
  }
 ],
 "metadata": {
  "kernelspec": {
   "display_name": "Julia 1.10.1",
   "language": "julia",
   "name": "julia-1.10"
  },
  "language_info": {
   "file_extension": ".jl",
   "mimetype": "application/julia",
   "name": "julia",
   "version": "1.10.1"
  }
 },
 "nbformat": 4,
 "nbformat_minor": 5
}
